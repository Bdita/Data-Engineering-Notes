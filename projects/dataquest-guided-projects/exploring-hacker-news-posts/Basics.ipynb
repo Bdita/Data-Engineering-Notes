{
 "cells": [
  {
   "cell_type": "markdown",
   "metadata": {
    "collapsed": true
   },
   "source": [
    "### Powerful Statistics for Hacker News Posts Engagement: Find what kind of posts and time receive most comments\n",
    "\n",
    "In this project, we'll aim to find what kind of Hacker News post receives most comments and the best time to post to drive more engagement. \n",
    "\n",
    "Hacker News is a site started by the startup incubator Y Combinator, where user-submitted stories (known as \"posts\") are voted and commented upon, similar to reddit. In this project, we are going to look at the post whose titles begin with either Ask HN or Show HN. Users submit Ask HN posts to ask the Hacker News community a specific question. Likewise, users submit Show HN posts to show the Hacker News community a project, product, or just generally something interesting.\n",
    "\n",
    "We'll analyze a data set of submissions to Hacker News available [here](https://www.kaggle.com/hacker-news/hacker-news-posts) to compare these two types of posts to determine the following:\n",
    "- Do Ask HN or Show HN receive more comments on average?\n",
    "- Do posts created at a certain time receive more comments on average?\n",
    "\n",
    "#### Limitation of the project\n",
    "Please note that the dataset has been reduced from almost 300,000 rows to approximately 20,000 rows by removing all submissions that did not receive any comments, and then randomly sampling from the remaining submissions. The dataset used has been provided as a part of guided project for Dataquest's python intermediate course.\n",
    "\n",
    "#### Summary of Results\n",
    "After analyzing the data, we've reached a conclusion that Ask HN posts recieve more comments on average than Show HN posts. Since ask posts are more likely to receive comments, we focused our remaining analysis on these posts and found that ask post made at 15:00 receives the most comments per post.\n",
    "\n",
    "For more details, please refer to the full analysis below.\n",
    "\n",
    "### Data Exploration and Data Cleaning\n",
    "Below, we'll do a quick exploration of the hacker_news.csv file stored in this repository. We'll read in the file using the direct link here."
   ]
  },
  {
   "cell_type": "code",
   "execution_count": 1,
   "metadata": {
    "scrolled": false
   },
   "outputs": [
    {
     "name": "stdout",
     "output_type": "stream",
     "text": [
      "['id', 'title', 'url', 'num_points', 'num_comments', 'author', 'created_at']\n",
      "\n",
      "\n",
      "[['12224879', 'Interactive Dynamic Video', 'http://www.interactivedynamicvideo.com/', '386', '52', 'ne0phyte', '8/4/2016 11:52'], ['10975351', 'How to Use Open Source and Shut the Fuck Up at the Same Time', 'http://hueniverse.com/2016/01/26/how-to-use-open-source-and-shut-the-fuck-up-at-the-same-time/', '39', '10', 'josep2', '1/26/2016 19:30'], ['11964716', \"Florida DJs May Face Felony for April Fools' Water Joke\", 'http://www.thewire.com/entertainment/2013/04/florida-djs-april-fools-water-joke/63798/', '2', '1', 'vezycash', '6/23/2016 22:20'], ['11919867', 'Technology ventures: From Idea to Enterprise', 'https://www.amazon.com/Technology-Ventures-Enterprise-Thomas-Byers/dp/0073523429', '3', '1', 'hswarna', '6/17/2016 0:01'], ['10301696', 'Note by Note: The Making of Steinway L1037 (2007)', 'http://www.nytimes.com/2007/11/07/movies/07stein.html?_r=0', '8', '2', 'walterbell', '9/30/2015 4:12']]\n"
     ]
    }
   ],
   "source": [
    "from csv import reader\n",
    "file = open('hacker_news.csv')\n",
    "read_file = reader(file)\n",
    "hn = list(read_file)\n",
    "file.close()\n",
    "\n",
    "headers = hn[0]\n",
    "hn_dataset = hn[1:]\n",
    "print(headers)\n",
    "print('\\n')\n",
    "print(hn_dataset[:5])"
   ]
  },
  {
   "cell_type": "markdown",
   "metadata": {},
   "source": [
    "Now that we've removed the headers from `hn`, we're ready to filter our data. Since we're only concerned with post titles beginning with `Ask HN` or `Show HN`, we'll create new lists of lists containing just the data for those titles. Let's separate posts beginning with Ask HN and Show HN (and case variations) into two different lists next."
   ]
  },
  {
   "cell_type": "code",
   "execution_count": 2,
   "metadata": {},
   "outputs": [
    {
     "name": "stdout",
     "output_type": "stream",
     "text": [
      "No. of Ask HN posts: 1744\n",
      "\n",
      "\n",
      "No. of Show HN posts: 1162\n",
      "\n",
      "\n",
      "No. of other posts: 17194\n"
     ]
    }
   ],
   "source": [
    "ask_posts = []\n",
    "show_posts = []\n",
    "other_posts = []\n",
    "\n",
    "for row in hn_dataset:\n",
    "    title = row[1]\n",
    "    if title.lower().startswith('ask hn'):\n",
    "        ask_posts.append(row)\n",
    "    elif title.lower().startswith('show hn'):\n",
    "        show_posts.append(row)\n",
    "    else:\n",
    "        other_posts.append(row)\n",
    "        \n",
    "print('No. of Ask HN posts:', len(ask_posts))\n",
    "print('\\n')\n",
    "print('No. of Show HN posts:', len(show_posts))\n",
    "print('\\n')\n",
    "print('No. of other posts:', len(other_posts))    "
   ]
  },
  {
   "cell_type": "markdown",
   "metadata": {},
   "source": [
    "Now, let's determine if ask post or show posts receive more comments on average."
   ]
  },
  {
   "cell_type": "code",
   "execution_count": 3,
   "metadata": {},
   "outputs": [
    {
     "name": "stdout",
     "output_type": "stream",
     "text": [
      "Average Ask Comments:  14.038417431192661\n"
     ]
    }
   ],
   "source": [
    "total_ask_comments = 0\n",
    "\n",
    "for row in ask_posts:\n",
    "    num_comments = int(row[4])\n",
    "    total_ask_comments += num_comments\n",
    "\n",
    "average_ask_comments = total_ask_comments / len(ask_posts)\n",
    "print('Average Ask Comments: ', average_ask_comments)"
   ]
  },
  {
   "cell_type": "code",
   "execution_count": 4,
   "metadata": {},
   "outputs": [
    {
     "name": "stdout",
     "output_type": "stream",
     "text": [
      "Average Show Comments:  10.31669535283993\n"
     ]
    }
   ],
   "source": [
    "total_show_comments = 0\n",
    "\n",
    "for row in show_posts:\n",
    "    num_comments = int(row[4])\n",
    "    total_show_comments += num_comments\n",
    "\n",
    "average_show_comments = total_show_comments / len(show_posts)\n",
    "print('Average Show Comments: ', average_show_comments)"
   ]
  },
  {
   "cell_type": "markdown",
   "metadata": {},
   "source": [
    "#### Finding 1: ####\n",
    "The `ASK HN` posts receive more comments on average than `SHOW HN` posts."
   ]
  },
  {
   "cell_type": "markdown",
   "metadata": {},
   "source": [
    "Since ask posts are more likely to receive comments, we'll focus our remaining analysis just on these posts. Next, we'll determine if ask posts created at a certain time are more likely to attract comments."
   ]
  },
  {
   "cell_type": "markdown",
   "metadata": {},
   "source": [
    "We'll use the following steps to perform this analysis:"
   ]
  },
  {
   "cell_type": "markdown",
   "metadata": {},
   "source": [
    "1. Calculate the amount of ask posts created in each hour of the day, along with the number of comments received."
   ]
  },
  {
   "cell_type": "code",
   "execution_count": 6,
   "metadata": {},
   "outputs": [
    {
     "name": "stdout",
     "output_type": "stream",
     "text": [
      "Top 5 hours for Ask Posts Comments\n",
      "15:00: 38.59 average comments per post\n",
      "02:00: 23.81 average comments per post\n",
      "20:00: 21.52 average comments per post\n",
      "16:00: 16.80 average comments per post\n",
      "21:00: 16.01 average comments per post\n",
      "13:00: 14.74 average comments per post\n"
     ]
    }
   ],
   "source": [
    "from datetime import datetime as dt\n",
    "\n",
    "result_list = []\n",
    "\n",
    "for row in ask_posts:\n",
    "    created_at = row[6]\n",
    "    no_of_comments = int(row[4])\n",
    "    result_list.append([created_at, no_of_comments])\n",
    "    \n",
    "counts_by_hour = {}\n",
    "comments_by_hour = {}\n",
    "\n",
    "for row in result_list:\n",
    "    datetime_obj = dt.strptime(row[0], '%m/%d/%Y %H:%M')\n",
    "    hour = datetime_obj.strftime('%H')\n",
    "    if hour in counts_by_hour:\n",
    "        counts_by_hour[hour] += 1\n",
    "        comments_by_hour[hour] += row[1]\n",
    "    else:\n",
    "        counts_by_hour[hour] = 1\n",
    "        comments_by_hour[hour] = row[1]\n",
    "    \n",
    "\n",
    "avg_by_hour = []\n",
    "\n",
    "for key in counts_by_hour.keys():\n",
    "    num_comments = comments_by_hour[key]\n",
    "    total_count = counts_by_hour[key]\n",
    "    avg_by_hour.append([key, num_comments/total_count])\n",
    "\n",
    "swap_avg_by_hour = []\n",
    "\n",
    "for row in avg_by_hour:\n",
    "    swap_avg_by_hour.append([row[1], row[0]])\n",
    "\n",
    "sorted_swap = sorted(swap_avg_by_hour, reverse=True)\n",
    "\n",
    "print('Top 5 hours for Ask Posts Comments')\n",
    "\n",
    "for row in sorted_swap[:6]:\n",
    "    datetime_obj = dt.strptime(row[1], '%H')\n",
    "    hour = dt.strftime(datetime_obj, '%H:%M')\n",
    "    print('{}: {:.2f} average comments per post'.format(hour, row[0]))"
   ]
  },
  {
   "cell_type": "markdown",
   "metadata": {},
   "source": [
    "#### Conclusion:\n",
    "In this project, we analyzed Hacker News posts to determine which type of post and time receive the most comments on average. Based on our analysis, 2 interesting statistics on audience engagement that could be useful are:\n",
    "\n",
    "1. Ask HN posts get significantly higher number of comments (~2.2x higher) than Show HN posts.\n",
    "    Therefore, it can be recommended that the post be categorized as ask post in order to get more engagement on the posts with the audience in the form of comments.\n",
    "\n",
    "2. The best time to post is between 15:00 and 16:00 (3:00 pm est - 4:00 pm est) as the statistics above show that the ask post made at 15:00 receives the most comments per post, with an average of ~30 comments per post"
   ]
  }
 ],
 "metadata": {
  "kernelspec": {
   "display_name": "Python 3",
   "language": "python",
   "name": "python3"
  },
  "language_info": {
   "codemirror_mode": {
    "name": "ipython",
    "version": 3
   },
   "file_extension": ".py",
   "mimetype": "text/x-python",
   "name": "python",
   "nbconvert_exporter": "python",
   "pygments_lexer": "ipython3",
   "version": "3.8.8"
  }
 },
 "nbformat": 4,
 "nbformat_minor": 2
}
